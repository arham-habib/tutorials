{
 "cells": [
  {
   "cell_type": "markdown",
   "id": "012f4e2c",
   "metadata": {},
   "source": [
    "# Stylizing\n",
    "For me, the most useful component of AI generated images is the composition. What is in the picture? Once that's settled you can decide on a style. Something like Dali, starry night, or picasso can be very iconic. This step is best fit vefore color simplification."
   ]
  },
  {
   "cell_type": "code",
   "execution_count": null,
   "id": "04d4f27f",
   "metadata": {},
   "outputs": [],
   "source": []
  }
 ],
 "metadata": {
  "kernelspec": {
   "display_name": "Python 3 (ipykernel)",
   "language": "python",
   "name": "python3"
  },
  "language_info": {
   "codemirror_mode": {
    "name": "ipython",
    "version": 3
   },
   "file_extension": ".py",
   "mimetype": "text/x-python",
   "name": "python",
   "nbconvert_exporter": "python",
   "pygments_lexer": "ipython3",
   "version": "3.9.13"
  }
 },
 "nbformat": 4,
 "nbformat_minor": 5
}
