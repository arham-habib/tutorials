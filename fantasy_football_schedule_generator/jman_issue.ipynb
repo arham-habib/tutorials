{
 "cells": [
  {
   "cell_type": "markdown",
   "metadata": {},
   "source": [
    "# Fantasy Football Schedule Generator\n",
    "In this tutorial I will show you how to:\n",
    "1. Get the teams from yahoo\n",
    "2. Generate the schedule with various options\n",
    "3. Validate the schedule\n",
    "4. Upload the schedule (manual for now but might make a vid on automating it)\n"
   ]
  },
  {
   "cell_type": "markdown",
   "metadata": {},
   "source": [
    "## Get the Schedule"
   ]
  },
  {
   "cell_type": "code",
   "execution_count": 108,
   "metadata": {},
   "outputs": [
    {
     "data": {
      "text/plain": [
       "(['Team 1',\n",
       "  'Team 2',\n",
       "  'Team 3',\n",
       "  'Team 4',\n",
       "  'Team 5',\n",
       "  'Team 6',\n",
       "  'Team 7',\n",
       "  'Team 8',\n",
       "  'Team 9',\n",
       "  'Team 10',\n",
       "  'Team 11',\n",
       "  'Team 12'],\n",
       " 12)"
      ]
     },
     "execution_count": 108,
     "metadata": {},
     "output_type": "execute_result"
    }
   ],
   "source": [
    "all_teams=[\"Team \"+str(x+1) for x in range(12)]\n",
    "all_teams,len(all_teams)"
   ]
  },
  {
   "cell_type": "code",
   "execution_count": 109,
   "metadata": {},
   "outputs": [
    {
     "data": {
      "text/plain": [
       "['Team 6',\n",
       " 'Team 12',\n",
       " 'Team 5',\n",
       " 'Team 10',\n",
       " 'Team 7',\n",
       " 'Team 4',\n",
       " 'Team 2',\n",
       " 'Team 1',\n",
       " 'Team 9',\n",
       " 'Team 3',\n",
       " 'Team 8',\n",
       " 'Team 11']"
      ]
     },
     "execution_count": 109,
     "metadata": {},
     "output_type": "execute_result"
    }
   ],
   "source": [
    "import random\n",
    "random.shuffle(all_teams)#shuffles in place. Makes everything \"random\" -- technically pseudorandom but still should be good enough\n",
    "all_teams"
   ]
  },
  {
   "cell_type": "markdown",
   "metadata": {},
   "source": [
    "To preserve the randomness you can set a \"seed\"  https://docs.python.org/3/library/random.html#random.seed but we just save the output later instead."
   ]
  },
  {
   "cell_type": "markdown",
   "metadata": {},
   "source": [
    "Since we randomized earlier we can use deterministic methods like %, the modulo operator, to simplify our code."
   ]
  },
  {
   "cell_type": "markdown",
   "metadata": {},
   "source": [
    "# Notes on the settings\n",
    "Your divisions must be equally sized. And you must have an 1 or an even number of conferences"
   ]
  },
  {
   "cell_type": "code",
   "execution_count": 110,
   "metadata": {},
   "outputs": [
    {
     "data": {
      "text/plain": [
       "defaultdict(list,\n",
       "            {0: ['Team 6', 'Team 12', 'Team 5', 'Team 10', 'Team 7', 'Team 4'],\n",
       "             1: ['Team 2', 'Team 1', 'Team 9', 'Team 3', 'Team 8', 'Team 11']})"
      ]
     },
     "execution_count": 110,
     "metadata": {},
     "output_type": "execute_result"
    }
   ],
   "source": [
    "from collections import defaultdict#makes list append simpler\n",
    "\n",
    "divisions=defaultdict(list)\n",
    "for i,team in enumerate(all_teams):\n",
    "    divisions[i//6].append(team)#4 teams per division\n",
    "divisions"
   ]
  },
  {
   "cell_type": "code",
   "execution_count": 111,
   "metadata": {},
   "outputs": [
    {
     "data": {
      "text/plain": [
       "(defaultdict(list,\n",
       "             {0: ['Team 6',\n",
       "               'Team 12',\n",
       "               'Team 5',\n",
       "               'Team 10',\n",
       "               'Team 7',\n",
       "               'Team 4'],\n",
       "              1: ['Team 2',\n",
       "               'Team 1',\n",
       "               'Team 9',\n",
       "               'Team 3',\n",
       "               'Team 8',\n",
       "               'Team 11']}),\n",
       " [0, 1])"
      ]
     },
     "execution_count": 111,
     "metadata": {},
     "output_type": "execute_result"
    }
   ],
   "source": [
    "\n",
    "conferences=defaultdict(list)\n",
    "conference_nums=[]\n",
    "for division, teams in divisions.items():\n",
    "    division_num=division//1\n",
    "    conferences[division_num]+=teams\n",
    "    conference_nums.append(division_num)\n",
    "    \n",
    "conferences,conference_nums\n"
   ]
  },
  {
   "cell_type": "code",
   "execution_count": 112,
   "metadata": {},
   "outputs": [
    {
     "data": {
      "text/plain": [
       "['divisional',\n",
       " 'divisional',\n",
       " 'non_conference',\n",
       " 'non_conference',\n",
       " 'divisional',\n",
       " 'divisional',\n",
       " 'divisional',\n",
       " 'divisional',\n",
       " 'non_conference',\n",
       " 'divisional',\n",
       " 'non_conference',\n",
       " 'divisional',\n",
       " 'divisional',\n",
       " 'divisional']"
      ]
     },
     "execution_count": 112,
     "metadata": {},
     "output_type": "execute_result"
    }
   ],
   "source": [
    "\n",
    "game_types={\n",
    "    \"divisional\": 8,#Mandate a divisional game to start and stop the season - hard coded below\n",
    "    \"conference\": 0,\n",
    "    \"non_conference\": 4\n",
    "}\n",
    "game_types_per_week=[]\n",
    "for k,v in game_types.items():\n",
    "    game_types_per_week+=[k]*v\n",
    "random.shuffle(game_types_per_week)\n",
    "game_types_per_week.insert(0,\"divisional\")\n",
    "game_types_per_week+=[\"divisional\"]\n",
    "game_types_per_week"
   ]
  },
  {
   "cell_type": "markdown",
   "metadata": {},
   "source": [
    "# Constraints \n",
    "- 1 game max between nondivisional teams. \n",
    "- 2 games between divisional\n",
    "\n",
    "These constraints are relatively simple. Each constraint can be coded by a corresponding universe for each team. To simplify things we will not mix weeks, each week has a shared theme: divisional, non_conference, and conference. When a game is played we will remove that opponent from each teams' universe. \n",
    "  \n",
    "If you wanted to add a \"don't play a team 2 weeks in a row rule\" you would need to add a short term dont_play set for each team to include all the invalid teams for that team, for that week. "
   ]
  },
  {
   "cell_type": "code",
   "execution_count": 117,
   "metadata": {},
   "outputs": [],
   "source": [
    "\n",
    "def gen_matchups(all_teams_, universe_):\n",
    "    '''\n",
    "    Attempts to generate a week of matchups using each teams universe ()\n",
    "    '''\n",
    "    universe_=copy.deepcopy(universe_)\n",
    "    weekly_teams_playing = set()\n",
    "    weekly_matchups = []\n",
    "    teams_remaining=set(all_teams_)\n",
    "    \n",
    "    while teams_remaining:\n",
    "        team_1=teams_remaining.pop()\n",
    "        candidates=list(set(universe_[team_1])-weekly_teams_playing)\n",
    "#         print(candidates)\n",
    "        team_2=random.choice(candidates)\n",
    "        universe_[team_1].remove(team_2)\n",
    "        universe_[team_2].remove(team_1)\n",
    "\n",
    "        weekly_teams_playing=weekly_teams_playing.union(set([team_1,team_2]))\n",
    "        weekly_matchups.append([team_1,team_2])\n",
    "        teams_remaining.remove(team_2)\n",
    "#         print(weekly_matchups)\n",
    "#         print()\n",
    "    return weekly_matchups"
   ]
  },
  {
   "cell_type": "code",
   "execution_count": 118,
   "metadata": {},
   "outputs": [
    {
     "data": {
      "text/plain": [
       "{'Team 6': ['Team 5',\n",
       "  'Team 4',\n",
       "  'Team 12',\n",
       "  'Team 7',\n",
       "  'Team 10',\n",
       "  'Team 5',\n",
       "  'Team 4',\n",
       "  'Team 12',\n",
       "  'Team 7',\n",
       "  'Team 10'],\n",
       " 'Team 12': ['Team 5',\n",
       "  'Team 6',\n",
       "  'Team 4',\n",
       "  'Team 7',\n",
       "  'Team 10',\n",
       "  'Team 5',\n",
       "  'Team 6',\n",
       "  'Team 4',\n",
       "  'Team 7',\n",
       "  'Team 10'],\n",
       " 'Team 5': ['Team 6',\n",
       "  'Team 4',\n",
       "  'Team 12',\n",
       "  'Team 7',\n",
       "  'Team 10',\n",
       "  'Team 6',\n",
       "  'Team 4',\n",
       "  'Team 12',\n",
       "  'Team 7',\n",
       "  'Team 10'],\n",
       " 'Team 10': ['Team 5',\n",
       "  'Team 6',\n",
       "  'Team 4',\n",
       "  'Team 12',\n",
       "  'Team 7',\n",
       "  'Team 5',\n",
       "  'Team 6',\n",
       "  'Team 4',\n",
       "  'Team 12',\n",
       "  'Team 7'],\n",
       " 'Team 7': ['Team 6',\n",
       "  'Team 4',\n",
       "  'Team 12',\n",
       "  'Team 5',\n",
       "  'Team 10',\n",
       "  'Team 6',\n",
       "  'Team 4',\n",
       "  'Team 12',\n",
       "  'Team 5',\n",
       "  'Team 10'],\n",
       " 'Team 4': ['Team 5',\n",
       "  'Team 6',\n",
       "  'Team 12',\n",
       "  'Team 7',\n",
       "  'Team 10',\n",
       "  'Team 5',\n",
       "  'Team 6',\n",
       "  'Team 12',\n",
       "  'Team 7',\n",
       "  'Team 10'],\n",
       " 'Team 2': ['Team 1',\n",
       "  'Team 9',\n",
       "  'Team 3',\n",
       "  'Team 8',\n",
       "  'Team 11',\n",
       "  'Team 1',\n",
       "  'Team 9',\n",
       "  'Team 3',\n",
       "  'Team 8',\n",
       "  'Team 11'],\n",
       " 'Team 1': ['Team 9',\n",
       "  'Team 3',\n",
       "  'Team 8',\n",
       "  'Team 2',\n",
       "  'Team 11',\n",
       "  'Team 9',\n",
       "  'Team 3',\n",
       "  'Team 8',\n",
       "  'Team 2',\n",
       "  'Team 11'],\n",
       " 'Team 9': ['Team 1',\n",
       "  'Team 3',\n",
       "  'Team 8',\n",
       "  'Team 2',\n",
       "  'Team 11',\n",
       "  'Team 1',\n",
       "  'Team 3',\n",
       "  'Team 8',\n",
       "  'Team 2',\n",
       "  'Team 11'],\n",
       " 'Team 3': ['Team 1',\n",
       "  'Team 9',\n",
       "  'Team 8',\n",
       "  'Team 2',\n",
       "  'Team 11',\n",
       "  'Team 1',\n",
       "  'Team 9',\n",
       "  'Team 8',\n",
       "  'Team 2',\n",
       "  'Team 11'],\n",
       " 'Team 8': ['Team 1',\n",
       "  'Team 9',\n",
       "  'Team 3',\n",
       "  'Team 2',\n",
       "  'Team 11',\n",
       "  'Team 1',\n",
       "  'Team 9',\n",
       "  'Team 3',\n",
       "  'Team 2',\n",
       "  'Team 11'],\n",
       " 'Team 11': ['Team 1',\n",
       "  'Team 9',\n",
       "  'Team 3',\n",
       "  'Team 8',\n",
       "  'Team 2',\n",
       "  'Team 1',\n",
       "  'Team 9',\n",
       "  'Team 3',\n",
       "  'Team 8',\n",
       "  'Team 2']}"
      ]
     },
     "execution_count": 118,
     "metadata": {},
     "output_type": "execute_result"
    }
   ],
   "source": []
  },
  {
   "cell_type": "code",
   "execution_count": 121,
   "metadata": {},
   "outputs": [
    {
     "name": "stdout",
     "output_type": "stream",
     "text": [
      "0 divisional\n",
      "1 divisional\n",
      "2 non_conference\n",
      "3 non_conference\n",
      "4 divisional\n",
      "5 divisional\n",
      "6 divisional\n",
      "7 divisional\n",
      "8 non_conference\n",
      "9 divisional\n",
      "10 non_conference\n",
      "11 divisional\n",
      "12 divisional\n",
      "13 divisional\n"
     ]
    },
    {
     "data": {
      "text/plain": [
       "[['Team 1', 'Team 11'],\n",
       " ['Team 1', 'Team 3'],\n",
       " ['Team 1', 'Team 5'],\n",
       " ['Team 1', 'Team 10'],\n",
       " ['Team 1', 'Team 2'],\n",
       " ['Team 1', 'Team 8'],\n",
       " ['Team 1', 'Team 8'],\n",
       " ['Team 1', 'Team 3'],\n",
       " ['Team 1', 'Team 4'],\n",
       " ['Team 1', 'Team 11'],\n",
       " ['Team 1', 'Team 6'],\n",
       " ['Team 1', 'Team 2'],\n",
       " ['Team 1', 'Team 9'],\n",
       " ['Team 1', 'Team 9']]"
      ]
     },
     "execution_count": 121,
     "metadata": {},
     "output_type": "execute_result"
    }
   ],
   "source": [
    "from itertools import combinations,permutations\n",
    "import copy\n",
    "\n",
    "\n",
    "divisional_opponent_universe={}\n",
    "conference_opponent_universe={}\n",
    "nonconference_opponent_universe={}\n",
    "\n",
    "for division, teams in divisions.items():\n",
    "    for team in teams:\n",
    "        divisional_opponent_universe[team]=list(set(teams)-set([team]))*2\n",
    "\n",
    "for conference, teams in conferences.items():\n",
    "    for team in teams:\n",
    "        conference_opponent_universe[team]=list(set(teams)-set([team])-set(divisional_opponent_universe[team]))\n",
    "        #copy is helpful because of pointer vs primitive rules in Python. It may not be necessary in this case though\n",
    "        nonconference_opponent_universe[team]=copy.deepcopy(conferences[(conference+1)%2])#with 2 conferences this maps 0 to 1 and 1 to 0\n",
    "\n",
    "universes={\n",
    "    \"divisional\": divisional_opponent_universe,\n",
    "    \"conference\": conference_opponent_universe,\n",
    "    \"non_conference\": nonconference_opponent_universe,\n",
    "}\n",
    "\n",
    "universes['divisional']\n",
    "\n",
    "weekly_teams_playing=defaultdict(set)\n",
    "games_played={}\n",
    "weekly_matchups=[]\n",
    "\n",
    "\n",
    "for week, game_type in enumerate(game_types_per_week):\n",
    "    #print(week)\n",
    "        \n",
    "    print(week,game_type)\n",
    "    matchups=None\n",
    "    #Potentially invalid matchups can happen depending on the contstraints so each week will have a given number of attempts. \n",
    "    #It's also possible a prior week leads to an impossible state. We will only support rerunning on the week level\n",
    "    ATTEMPTS=500\n",
    "    for attempt in range(ATTEMPTS):\n",
    "        try:\n",
    "            matchups=gen_matchups(all_teams,universes[game_type])\n",
    "            break\n",
    "        except:\n",
    "            continue\n",
    "    if not matchups:\n",
    "        raise Exception(f\"No valid matchups found for week {week} after {ATTEMPTS} attempts. Please check your settings are valid or try increasing the number of attempts\")\n",
    "    else:\n",
    "        for name, universe in universes.items():\n",
    "            for team_1,team_2 in matchups:\n",
    "                for a,b in permutations([team_1,team_2], 2):\n",
    "                    if b in universe.get(a,[]):                        \n",
    "                        universes[name][a].remove(b)\n",
    "\n",
    "        weekly_matchups.append(matchups)\n",
    "\n",
    "[x[0] for x in weekly_matchups]"
   ]
  },
  {
   "cell_type": "markdown",
   "metadata": {},
   "source": [
    "# Validating the Output\n",
    "We will output the occurrences of each matchup.  \n",
    "  \n",
    "No row should have a value greater than 2. And we should see nice c"
   ]
  },
  {
   "cell_type": "code",
   "execution_count": 122,
   "metadata": {},
   "outputs": [
    {
     "data": {
      "text/plain": [
       "array([[0., 2., 2., 2., 2., 2., 0., 1., 1., 0., 1., 1.],\n",
       "       [2., 0., 2., 2., 2., 2., 1., 0., 0., 1., 1., 1.],\n",
       "       [2., 2., 0., 2., 2., 2., 1., 1., 1., 1., 0., 0.],\n",
       "       [2., 2., 2., 0., 2., 2., 1., 1., 1., 1., 0., 0.],\n",
       "       [2., 2., 2., 2., 0., 2., 1., 0., 0., 1., 1., 1.],\n",
       "       [2., 2., 2., 2., 2., 0., 0., 1., 1., 0., 1., 1.],\n",
       "       [0., 1., 1., 1., 1., 0., 0., 2., 2., 2., 2., 2.],\n",
       "       [1., 0., 1., 1., 0., 1., 2., 0., 2., 2., 2., 2.],\n",
       "       [1., 0., 1., 1., 0., 1., 2., 2., 0., 2., 2., 2.],\n",
       "       [0., 1., 1., 1., 1., 0., 2., 2., 2., 0., 2., 2.],\n",
       "       [1., 1., 0., 0., 1., 1., 2., 2., 2., 2., 0., 2.],\n",
       "       [1., 1., 0., 0., 1., 1., 2., 2., 2., 2., 2., 0.]])"
      ]
     },
     "execution_count": 122,
     "metadata": {},
     "output_type": "execute_result"
    }
   ],
   "source": [
    "import numpy as np\n",
    "N=len(all_teams)\n",
    "occurences_matrix=np.zeros((N,N))\n",
    "\n",
    "for weeks_matchups in weekly_matchups:\n",
    "    \n",
    "    for team_1,team_2 in weeks_matchups:\n",
    "        for a,b in permutations([team_1,team_2], 2):\n",
    "            occurences_matrix[all_teams.index(a)][all_teams.index(b)]+=1\n",
    "occurences_matrix"
   ]
  },
  {
   "cell_type": "markdown",
   "metadata": {},
   "source": [
    "# Input into Yahoo"
   ]
  },
  {
   "cell_type": "code",
   "execution_count": 123,
   "metadata": {},
   "outputs": [
    {
     "data": {
      "text/html": [
       "<div>\n",
       "<style scoped>\n",
       "    .dataframe tbody tr th:only-of-type {\n",
       "        vertical-align: middle;\n",
       "    }\n",
       "\n",
       "    .dataframe tbody tr th {\n",
       "        vertical-align: top;\n",
       "    }\n",
       "\n",
       "    .dataframe thead th {\n",
       "        text-align: right;\n",
       "    }\n",
       "</style>\n",
       "<table border=\"1\" class=\"dataframe\">\n",
       "  <thead>\n",
       "    <tr style=\"text-align: right;\">\n",
       "      <th></th>\n",
       "      <th>1</th>\n",
       "      <th>2</th>\n",
       "      <th>3</th>\n",
       "      <th>4</th>\n",
       "      <th>5</th>\n",
       "      <th>6</th>\n",
       "      <th>7</th>\n",
       "      <th>8</th>\n",
       "      <th>9</th>\n",
       "      <th>10</th>\n",
       "      <th>11</th>\n",
       "      <th>12</th>\n",
       "      <th>13</th>\n",
       "      <th>14</th>\n",
       "    </tr>\n",
       "  </thead>\n",
       "  <tbody>\n",
       "    <tr>\n",
       "      <th>0</th>\n",
       "      <td>[Team 1, Team 11]</td>\n",
       "      <td>[Team 1, Team 3]</td>\n",
       "      <td>[Team 1, Team 5]</td>\n",
       "      <td>[Team 1, Team 10]</td>\n",
       "      <td>[Team 1, Team 2]</td>\n",
       "      <td>[Team 1, Team 8]</td>\n",
       "      <td>[Team 1, Team 8]</td>\n",
       "      <td>[Team 1, Team 3]</td>\n",
       "      <td>[Team 1, Team 4]</td>\n",
       "      <td>[Team 1, Team 11]</td>\n",
       "      <td>[Team 1, Team 6]</td>\n",
       "      <td>[Team 1, Team 2]</td>\n",
       "      <td>[Team 1, Team 9]</td>\n",
       "      <td>[Team 1, Team 9]</td>\n",
       "    </tr>\n",
       "    <tr>\n",
       "      <th>1</th>\n",
       "      <td>[Team 6, Team 4]</td>\n",
       "      <td>[Team 6, Team 7]</td>\n",
       "      <td>[Team 6, Team 11]</td>\n",
       "      <td>[Team 6, Team 9]</td>\n",
       "      <td>[Team 6, Team 12]</td>\n",
       "      <td>[Team 6, Team 4]</td>\n",
       "      <td>[Team 6, Team 7]</td>\n",
       "      <td>[Team 6, Team 12]</td>\n",
       "      <td>[Team 6, Team 8]</td>\n",
       "      <td>[Team 6, Team 10]</td>\n",
       "      <td>[Team 9, Team 5]</td>\n",
       "      <td>[Team 6, Team 10]</td>\n",
       "      <td>[Team 6, Team 5]</td>\n",
       "      <td>[Team 6, Team 5]</td>\n",
       "    </tr>\n",
       "    <tr>\n",
       "      <th>2</th>\n",
       "      <td>[Team 9, Team 8]</td>\n",
       "      <td>[Team 9, Team 2]</td>\n",
       "      <td>[Team 9, Team 4]</td>\n",
       "      <td>[Team 7, Team 11]</td>\n",
       "      <td>[Team 9, Team 11]</td>\n",
       "      <td>[Team 9, Team 2]</td>\n",
       "      <td>[Team 9, Team 11]</td>\n",
       "      <td>[Team 9, Team 8]</td>\n",
       "      <td>[Team 9, Team 10]</td>\n",
       "      <td>[Team 9, Team 3]</td>\n",
       "      <td>[Team 7, Team 8]</td>\n",
       "      <td>[Team 9, Team 3]</td>\n",
       "      <td>[Team 7, Team 4]</td>\n",
       "      <td>[Team 7, Team 4]</td>\n",
       "    </tr>\n",
       "    <tr>\n",
       "      <th>3</th>\n",
       "      <td>[Team 7, Team 10]</td>\n",
       "      <td>[Team 4, Team 10]</td>\n",
       "      <td>[Team 7, Team 3]</td>\n",
       "      <td>[Team 4, Team 8]</td>\n",
       "      <td>[Team 7, Team 5]</td>\n",
       "      <td>[Team 7, Team 12]</td>\n",
       "      <td>[Team 4, Team 12]</td>\n",
       "      <td>[Team 7, Team 10]</td>\n",
       "      <td>[Team 7, Team 2]</td>\n",
       "      <td>[Team 7, Team 12]</td>\n",
       "      <td>[Team 4, Team 11]</td>\n",
       "      <td>[Team 7, Team 5]</td>\n",
       "      <td>[Team 12, Team 10]</td>\n",
       "      <td>[Team 12, Team 10]</td>\n",
       "    </tr>\n",
       "    <tr>\n",
       "      <th>4</th>\n",
       "      <td>[Team 12, Team 5]</td>\n",
       "      <td>[Team 12, Team 5]</td>\n",
       "      <td>[Team 12, Team 8]</td>\n",
       "      <td>[Team 12, Team 3]</td>\n",
       "      <td>[Team 4, Team 10]</td>\n",
       "      <td>[Team 3, Team 11]</td>\n",
       "      <td>[Team 3, Team 2]</td>\n",
       "      <td>[Team 4, Team 5]</td>\n",
       "      <td>[Team 12, Team 11]</td>\n",
       "      <td>[Team 4, Team 5]</td>\n",
       "      <td>[Team 12, Team 2]</td>\n",
       "      <td>[Team 4, Team 12]</td>\n",
       "      <td>[Team 3, Team 8]</td>\n",
       "      <td>[Team 3, Team 11]</td>\n",
       "    </tr>\n",
       "    <tr>\n",
       "      <th>5</th>\n",
       "      <td>[Team 3, Team 2]</td>\n",
       "      <td>[Team 8, Team 11]</td>\n",
       "      <td>[Team 2, Team 10]</td>\n",
       "      <td>[Team 2, Team 5]</td>\n",
       "      <td>[Team 3, Team 8]</td>\n",
       "      <td>[Team 5, Team 10]</td>\n",
       "      <td>[Team 5, Team 10]</td>\n",
       "      <td>[Team 2, Team 11]</td>\n",
       "      <td>[Team 3, Team 5]</td>\n",
       "      <td>[Team 2, Team 8]</td>\n",
       "      <td>[Team 3, Team 10]</td>\n",
       "      <td>[Team 8, Team 11]</td>\n",
       "      <td>[Team 2, Team 11]</td>\n",
       "      <td>[Team 2, Team 8]</td>\n",
       "    </tr>\n",
       "  </tbody>\n",
       "</table>\n",
       "</div>"
      ],
      "text/plain": [
       "                  1                  2                  3                  4   \\\n",
       "0  [Team 1, Team 11]   [Team 1, Team 3]   [Team 1, Team 5]  [Team 1, Team 10]   \n",
       "1   [Team 6, Team 4]   [Team 6, Team 7]  [Team 6, Team 11]   [Team 6, Team 9]   \n",
       "2   [Team 9, Team 8]   [Team 9, Team 2]   [Team 9, Team 4]  [Team 7, Team 11]   \n",
       "3  [Team 7, Team 10]  [Team 4, Team 10]   [Team 7, Team 3]   [Team 4, Team 8]   \n",
       "4  [Team 12, Team 5]  [Team 12, Team 5]  [Team 12, Team 8]  [Team 12, Team 3]   \n",
       "5   [Team 3, Team 2]  [Team 8, Team 11]  [Team 2, Team 10]   [Team 2, Team 5]   \n",
       "\n",
       "                  5                  6                  7                  8   \\\n",
       "0   [Team 1, Team 2]   [Team 1, Team 8]   [Team 1, Team 8]   [Team 1, Team 3]   \n",
       "1  [Team 6, Team 12]   [Team 6, Team 4]   [Team 6, Team 7]  [Team 6, Team 12]   \n",
       "2  [Team 9, Team 11]   [Team 9, Team 2]  [Team 9, Team 11]   [Team 9, Team 8]   \n",
       "3   [Team 7, Team 5]  [Team 7, Team 12]  [Team 4, Team 12]  [Team 7, Team 10]   \n",
       "4  [Team 4, Team 10]  [Team 3, Team 11]   [Team 3, Team 2]   [Team 4, Team 5]   \n",
       "5   [Team 3, Team 8]  [Team 5, Team 10]  [Team 5, Team 10]  [Team 2, Team 11]   \n",
       "\n",
       "                   9                  10                 11  \\\n",
       "0    [Team 1, Team 4]  [Team 1, Team 11]   [Team 1, Team 6]   \n",
       "1    [Team 6, Team 8]  [Team 6, Team 10]   [Team 9, Team 5]   \n",
       "2   [Team 9, Team 10]   [Team 9, Team 3]   [Team 7, Team 8]   \n",
       "3    [Team 7, Team 2]  [Team 7, Team 12]  [Team 4, Team 11]   \n",
       "4  [Team 12, Team 11]   [Team 4, Team 5]  [Team 12, Team 2]   \n",
       "5    [Team 3, Team 5]   [Team 2, Team 8]  [Team 3, Team 10]   \n",
       "\n",
       "                  12                  13                  14  \n",
       "0   [Team 1, Team 2]    [Team 1, Team 9]    [Team 1, Team 9]  \n",
       "1  [Team 6, Team 10]    [Team 6, Team 5]    [Team 6, Team 5]  \n",
       "2   [Team 9, Team 3]    [Team 7, Team 4]    [Team 7, Team 4]  \n",
       "3   [Team 7, Team 5]  [Team 12, Team 10]  [Team 12, Team 10]  \n",
       "4  [Team 4, Team 12]    [Team 3, Team 8]   [Team 3, Team 11]  \n",
       "5  [Team 8, Team 11]   [Team 2, Team 11]    [Team 2, Team 8]  "
      ]
     },
     "execution_count": 123,
     "metadata": {},
     "output_type": "execute_result"
    }
   ],
   "source": [
    "\n",
    "import pandas as pd\n",
    "\n",
    "matchups_df=pd.DataFrame(weekly_matchups).T\n",
    "matchups_df.columns=[x+1 for x in matchups_df.columns]\n",
    "matchups_df"
   ]
  },
  {
   "cell_type": "code",
   "execution_count": 124,
   "metadata": {},
   "outputs": [],
   "source": [
    "import pandas as pd\n",
    "#pd.DataFrame(weekly_matchups).to_csv(\"matchups.csv\")#save for posterity"
   ]
  },
  {
   "cell_type": "code",
   "execution_count": 125,
   "metadata": {},
   "outputs": [
    {
     "data": {
      "text/plain": [
       "defaultdict(list,\n",
       "            {0: ['Team 6', 'Team 12', 'Team 5', 'Team 10', 'Team 7', 'Team 4'],\n",
       "             1: ['Team 2', 'Team 1', 'Team 9', 'Team 3', 'Team 8', 'Team 11']})"
      ]
     },
     "execution_count": 125,
     "metadata": {},
     "output_type": "execute_result"
    }
   ],
   "source": [
    "divisions"
   ]
  },
  {
   "cell_type": "code",
   "execution_count": 126,
   "metadata": {},
   "outputs": [
    {
     "name": "stdout",
     "output_type": "stream",
     "text": [
      "divisional\n"
     ]
    },
    {
     "data": {
      "text/plain": [
       "[['Team 1', 'Team 11'],\n",
       " ['Team 6', 'Team 4'],\n",
       " ['Team 9', 'Team 8'],\n",
       " ['Team 7', 'Team 10'],\n",
       " ['Team 12', 'Team 5'],\n",
       " ['Team 3', 'Team 2']]"
      ]
     },
     "execution_count": 126,
     "metadata": {},
     "output_type": "execute_result"
    }
   ],
   "source": [
    "WEEK_NUM=1\n",
    "print(game_types_per_week[WEEK_NUM-1])\n",
    "weekly_matchups[WEEK_NUM-1]"
   ]
  },
  {
   "cell_type": "markdown",
   "metadata": {},
   "source": [
    "# Additional Information\n",
    "Optimization theory and constraint programming deal with scheduling problem. It can be very, very complex. \n",
    "- [How the NFL may deal with it](https://www.math.cmu.edu/~af1p/Teaching/OR2/Projects/P56/OR-Final-Paper.pdf)\n",
    "- [Constraint Programming wikipedia page](https://en.wikipedia.org/wiki/Constraint_programming#:~:text=Constraint%20programming%20(CP)%20is%20a,a%20set%20of%20decision%20variables.)\n",
    "- [Coursera Course](https://www.coursera.org/learn/discrete-optimization) -- I took this, kinda hard I think I flunked by the end but did learn some useful stuff."
   ]
  },
  {
   "cell_type": "code",
   "execution_count": null,
   "metadata": {},
   "outputs": [],
   "source": []
  },
  {
   "cell_type": "code",
   "execution_count": null,
   "metadata": {},
   "outputs": [],
   "source": []
  }
 ],
 "metadata": {
  "kernelspec": {
   "display_name": "Python 3 (ipykernel)",
   "language": "python",
   "name": "python3"
  },
  "language_info": {
   "codemirror_mode": {
    "name": "ipython",
    "version": 3
   },
   "file_extension": ".py",
   "mimetype": "text/x-python",
   "name": "python",
   "nbconvert_exporter": "python",
   "pygments_lexer": "ipython3",
   "version": "3.9.13"
  }
 },
 "nbformat": 4,
 "nbformat_minor": 2
}
