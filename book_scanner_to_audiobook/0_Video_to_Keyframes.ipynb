{
 "cells": [
  {
   "cell_type": "markdown",
   "id": "dffdcfbb",
   "metadata": {},
   "source": [
    "# INTRO \n",
    "[VERY MUCH STILL IN PROGRESS]\n",
    "- Video is done (iPhone is a pain to transfer to PC. Use file sharing app like google drive or dropbox)\n",
    "    - Converted to MP4 with Shotcut\n",
    "    - \n",
    "-"
   ]
  },
  {
   "cell_type": "code",
   "execution_count": null,
   "id": "31569162",
   "metadata": {},
   "outputs": [],
   "source": []
  }
 ],
 "metadata": {
  "kernelspec": {
   "display_name": "Python 3 (ipykernel)",
   "language": "python",
   "name": "python3"
  },
  "language_info": {
   "codemirror_mode": {
    "name": "ipython",
    "version": 3
   },
   "file_extension": ".py",
   "mimetype": "text/x-python",
   "name": "python",
   "nbconvert_exporter": "python",
   "pygments_lexer": "ipython3",
   "version": "3.9.7"
  }
 },
 "nbformat": 4,
 "nbformat_minor": 5
}
