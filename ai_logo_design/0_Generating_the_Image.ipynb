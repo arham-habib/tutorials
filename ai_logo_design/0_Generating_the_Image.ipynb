{
 "cells": [
  {
   "cell_type": "markdown",
   "id": "f876394a",
   "metadata": {},
   "source": [
    "# Intro\n",
    "Blurb about AI and AGI. Use the abstract beginnings https://minimaxir.com/2021/08/vqgan-clip/\n",
    "\n",
    "Then mention what we will do and why. Gen image, simplify colors a posteori, upsample separately to save GPU use. The setting is most important, not the texturizing.  \n",
    "  \n",
    "We'll generate a bar logo\n",
    "\n",
    "https://colab.research.google.com/github/justinjohn0306/VQGAN-CLIP/blob/main/VQGAN%2BCLIP(Updated).ipynb"
   ]
  },
  {
   "cell_type": "markdown",
   "id": "d9b458e9",
   "metadata": {},
   "source": [
    "Seeds:  \n",
    "- mouse looking one \"flannel cartoon guy\" 777250690090243910 1800 iterations\n",
    "- blue flannel \n",
    "    - Using texts: ['flannel guy logo']\n",
    "    - Using seed: 16242647591107448384\n",
    "- panda thingy\n",
    "    - Using texts: ['flannel guy logo']\n",
    "    - Using seed: 12856703653668097238\n",
    "- flannel panda logo\n",
    "    - Using texts: ['flannel panda logo']\n",
    "    - Using seed: 4054564549974000663\n",
    "- Using texts: ['flannel panda craft beer logo']\n",
    "Using seed: 6685483662293727069  \n",
    "\n",
    "  \n",
    "  \n",
    "Using texts: ['hipster bear logo']\n",
    "Using seed: 8976807152189909148"
   ]
  },
  {
   "cell_type": "markdown",
   "id": "be890678",
   "metadata": {},
   "source": [
    "Try logo next"
   ]
  },
  {
   "cell_type": "code",
   "execution_count": null,
   "id": "dd20f8e9",
   "metadata": {},
   "outputs": [],
   "source": []
  }
 ],
 "metadata": {
  "kernelspec": {
   "display_name": "Python 3 (ipykernel)",
   "language": "python",
   "name": "python3"
  },
  "language_info": {
   "codemirror_mode": {
    "name": "ipython",
    "version": 3
   },
   "file_extension": ".py",
   "mimetype": "text/x-python",
   "name": "python",
   "nbconvert_exporter": "python",
   "pygments_lexer": "ipython3",
   "version": "3.9.13"
  }
 },
 "nbformat": 4,
 "nbformat_minor": 5
}
