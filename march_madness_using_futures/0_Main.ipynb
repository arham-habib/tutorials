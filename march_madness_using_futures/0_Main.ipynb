{
 "cells": [
  {
   "cell_type": "markdown",
   "id": "95ec6ae0",
   "metadata": {},
   "source": [
    "I'm going to show you how to use betting futures to create a March Madness bracket. You can use this same approach\n",
    "for many other sports and really anything where there is a prediction market.\n",
    "\n",
    "#### Outline\n",
    "1. Scraping Futures Using Beautiful Soup\n",
    "3. Matching up with Kaggle Data\n",
    "4. Generating a bracket\n"
   ]
  },
  {
   "cell_type": "code",
   "execution_count": null,
   "id": "6fd0ed1e",
   "metadata": {},
   "outputs": [],
   "source": [
    "import requests\n",
    "from bs4 import BeautifulSoup\n",
    "from IPython.core.display import HTML"
   ]
  },
  {
   "cell_type": "markdown",
   "id": "64436401",
   "metadata": {},
   "source": [
    "# Scraping Futures Data"
   ]
  },
  {
   "cell_type": "code",
   "execution_count": null,
   "id": "3184b1f0",
   "metadata": {},
   "outputs": [],
   "source": [
    "futures_url=\"https://www.vegasinsider.com/college-basketball/odds/futures/\"\n",
    "req=requests.get(futures_url)\n",
    "html=req.text\n",
    "#HTML(req.text) Run this if you want to see visually if html was downloaded\n",
    "#It will mess up your css, aka jupyter notebook display styling so be prepared to refresh the page\n",
    "req.text"
   ]
  },
  {
   "cell_type": "code",
   "execution_count": null,
   "id": "13e70d75",
   "metadata": {},
   "outputs": [],
   "source": [
    "#looks like the data is there, let's extract the table"
   ]
  },
  {
   "cell_type": "code",
   "execution_count": null,
   "id": "a1ad8ae5",
   "metadata": {},
   "outputs": [],
   "source": [
    "soup=BeautifulSoup(html,\"html.parser\")\n",
    "futures=soup.find(\"bc-futures\")\n",
    "futures"
   ]
  },
  {
   "cell_type": "code",
   "execution_count": null,
   "id": "583b0125",
   "metadata": {},
   "outputs": [],
   "source": [
    "#Get column names\n",
    "header=futures.find(\"div\", \"fixed-odds-header-transition\")#shortcut for .find(\"div\", {\"class\": \"xxx\"})\n",
    "bookmakers=header.find_all(\"div\",\"bookmaker-rotated\")\n",
    "column_names=[\"consensus\"]#First one is tricky\n",
    "for bookmaker in bookmakers[1:]:\n",
    "    link=bookmaker.parent.parent.parent.find(\"a\")#many ways to parse this\n",
    "    if link:\n",
    "        column_names.append(link.attrs.get(\"href\",\"\").split(\"/goto/\")[-1].split(\"/\")[0])\n",
    "    else:\n",
    "        column_names.append(bookmaker)\n",
    "column_names"
   ]
  },
  {
   "cell_type": "code",
   "execution_count": null,
   "id": "e75427bd",
   "metadata": {},
   "outputs": [],
   "source": [
    "import re\n",
    "index_name_divs=futures.find_all(\"div\",\"team-stats-box\")\n",
    "index_names=[]\n",
    "for div in index_name_divs:\n",
    "    name=re.findall(\"\\s+(.*)\\n\",div.text)\n",
    "    if len(name)==3:\n",
    "        index_names.append(name[0])\n",
    "    else:\n",
    "        print(name)#err if here!\n",
    "index_names"
   ]
  },
  {
   "cell_type": "code",
   "execution_count": null,
   "id": "604be6c1",
   "metadata": {},
   "outputs": [],
   "source": [
    "values=[]\n",
    "odds_divs=futures.find_all(\"div\",\"odds-slider-all\")[1].find_all(\"div\",\"pt-3\")\n",
    "odds=[]\n",
    "for div in odds_divs:\n",
    "    odd=re.findall(\"\\s+(.*)\\n\",div.text)\n",
    "    if len(odd)==1:\n",
    "        odd=odd[0]\n",
    "        odd=float(odd.replace(\"+\",\"\")) if odd!=\"N/A\" else None\n",
    "        odds.append(odd)\n",
    "    else:\n",
    "        print(odd)#err if here!\n",
    "odds"
   ]
  },
  {
   "cell_type": "code",
   "execution_count": null,
   "id": "bc776c7e",
   "metadata": {},
   "outputs": [],
   "source": [
    "len(odds)/len(index_names)==len(column_names)#THIS SHOULD EQUAL COLUMNS"
   ]
  },
  {
   "cell_type": "code",
   "execution_count": null,
   "id": "ad1d0483",
   "metadata": {},
   "outputs": [],
   "source": [
    "from collections import defaultdict\n",
    "import pandas as pd\n",
    "j=0\n",
    "data=defaultdict(list)\n",
    "for i,odd in enumerate(odds):\n",
    "    if i%len(index_names)==0 and i!=0:\n",
    "        j+=1\n",
    "    data[column_names[j]].append(odd)\n",
    "df=pd.DataFrame(data, index=index_names)\n",
    "df.index.name=\"full_team_name\"\n",
    "df=df.reset_index()\n",
    "df"
   ]
  },
  {
   "cell_type": "markdown",
   "id": "1e22053e",
   "metadata": {},
   "source": [
    "Awesome, we've got the data. Now we can rank teams by the worst paying odds (lower is better team) and generate a bracket!"
   ]
  },
  {
   "cell_type": "markdown",
   "id": "73a9441c",
   "metadata": {},
   "source": [
    "# Bracket Generation\n",
    "We're going to use data from Kaggle and a tool called bracketeer  \n",
    "## Kaggle Download\n",
    "Go to https://www.kaggle.com/c/mens-march-mania-2022/data and download the stage 2 files for:  \n",
    "- MNCAATourneySeeds.csv\n",
    "- MNCAATourneySlots.csv\n",
    "- MTeams.csv\n",
    "Place these in the data/ folder (I've already done it for 2022)"
   ]
  },
  {
   "cell_type": "code",
   "execution_count": null,
   "id": "0c5709d3",
   "metadata": {},
   "outputs": [],
   "source": [
    "\n",
    "YEAR=2022\n",
    "DATA_ROOT=\"data\"\n",
    "seeds=pd.read_csv(DATA_ROOT+\"/MNCAATourneySeeds.csv\")\n",
    "slots=pd.read_csv(DATA_ROOT+\"/MNCAATourneySlots.csv\")\n",
    "teams=pd.read_csv(DATA_ROOT+\"/MTeams.csv\")\n",
    "teams"
   ]
  },
  {
   "cell_type": "code",
   "execution_count": null,
   "id": "aa3f19f0",
   "metadata": {},
   "outputs": [],
   "source": [
    "#For Kaggle and for our bracket builder we need to generate a matchup prediction for any potential matchup\n",
    "#in the format {YEAR}_{team_ID_1}_{team_ID_2}\n",
    "# Team ID 1 must be lower than team ID 2\n",
    "\n",
    "#Somewhat fancy way of getting upper triangle of pairs i,j of NxN matrix \n",
    "current_seeds=seeds[seeds['Season']==YEAR]\n",
    "matchups=current_seeds.merge(current_seeds,on=[\"Season\"],how=\"outer\").sort_values(by=[\"TeamID_x\",\"TeamID_y\"])\n",
    "matchups=matchups.loc[matchups['TeamID_x']<matchups['TeamID_y']]\n",
    "matchups"
   ]
  },
  {
   "cell_type": "markdown",
   "id": "424c529c",
   "metadata": {},
   "source": [
    "We've got the matchups but now we need to match up our lines with team names"
   ]
  },
  {
   "cell_type": "code",
   "execution_count": null,
   "id": "0d9262d4",
   "metadata": {},
   "outputs": [],
   "source": [
    "#There are some semi-automated ways of doing this but with just 68 or so teams I think it's better to do it by hand\n",
    "#Too many edge cases\n",
    "lookup={}\n",
    "#generate assignment to be filled in next\n",
    "for name in sorted(df['full_team_name']):\n",
    "    lookup[name]=0\n",
    "lookup"
   ]
  },
  {
   "cell_type": "code",
   "execution_count": null,
   "id": "b4631632",
   "metadata": {},
   "outputs": [],
   "source": []
  },
  {
   "cell_type": "code",
   "execution_count": null,
   "id": "b707bac7",
   "metadata": {},
   "outputs": [],
   "source": [
    "lookup={'Akron Zips': 1103,\n",
    " 'Alabama Crimson Tide': 1104,\n",
    " 'Arizona Wildcats': 1112,\n",
    " 'Arkansas Razorbacks': 1116,\n",
    " 'Auburn Tigers': 1120,\n",
    " 'Baylor Bears': 1124,\n",
    " 'Boise State Broncos': 1129,\n",
    " 'Bryant Bulldogs': 1136,\n",
    " 'Cal State Fullerton Titans': 1168,\n",
    " 'Chattanooga Mocs': 1151,\n",
    " 'Colgate Raiders': 1159,\n",
    " 'Colorado State Rams': 1161,\n",
    " 'Connecticut Huskies': 1163,\n",
    " 'Creighton Bluejays': 1166,\n",
    " 'Davidson Wildcats': 1172,\n",
    " \"Delaware Fightin' Blue Hens\": 1174,\n",
    " 'Duke Blue Devils': 1181,\n",
    " 'Georgia State Panthers': 1209,\n",
    " 'Gonzaga Bulldogs': 1211,\n",
    " 'Houston Cougars': 1222,\n",
    " 'Illinois Fighting Illini': 1228,\n",
    " 'Indiana Hoosiers': 1231,\n",
    " 'Iowa Hawkeyes': 1234,\n",
    " 'Iowa State Cyclones': 1235,\n",
    " 'Jacksonville State Gamecocks': 1240,\n",
    " 'Kansas Jayhawks': 1242,\n",
    " 'Kentucky Wildcats': 1246,\n",
    " 'LSU Tigers': 1261,\n",
    " 'Longwood Lancers': 1255,\n",
    " 'Loyola Chicago Ramblers': 1260,\n",
    " 'Marquette Golden Eagles': 1266,\n",
    " 'Memphis Tigers': 1272,\n",
    " 'Miami (FL) Hurricanes': 1274,\n",
    " 'Michigan State Spartans': 1277,\n",
    " 'Michigan Wolverines': 1276,\n",
    " 'Montana State Bobcats': 1286,\n",
    " 'Murray State Racers': 1293,\n",
    " 'New Mexico State Aggies': 1308,\n",
    " 'Norfolk State Spartans': 1313,\n",
    " 'North Carolina Tar Heels': 1314,\n",
    " 'Notre Dame Fighting Irish': 1323,\n",
    " 'Ohio State Buckeyes': 1326,\n",
    " 'Providence Friars': 1344,\n",
    " 'Purdue Boilermakers': 1345,\n",
    " 'Richmond Spiders': 1350,\n",
    " \"Saint Mary's Gaels\": 1388,\n",
    " 'San Diego State Aztecs': 1361,\n",
    " 'San Francisco Dons': 1362,\n",
    " 'South Dakota State Jackrabbits': 1355,\n",
    " 'TCU Horned Frogs': 1395,\n",
    " 'Tennessee Volunteers': 1397,\n",
    " 'Texas A&M-Corpus Christi Islanders': 1394,\n",
    " 'Texas Longhorns': 1400,\n",
    " 'Texas Southern Tigers': 1411,\n",
    " 'Texas Tech Red Raiders': 1403,\n",
    " 'UAB Blazers': 1412,\n",
    " 'UCLA Bruins': 1417,\n",
    " 'USC Trojans': 1425,\n",
    " 'Vermont Catamounts': 1436,\n",
    " 'Villanova Wildcats': 1437,\n",
    " 'Virginia Tech Hokies': 1439,\n",
    " 'Wisconsin Badgers': 1458,\n",
    " 'Wright State Raiders': 1460,\n",
    " 'Yale Bulldogs': 1463}\n",
    "\n",
    "matched=[id for name,id in lookup.items() if id!=0]\n",
    "pd.options.display.max_rows=68\n",
    "teams[(teams['TeamID'].isin(current_seeds['TeamID']))&~(teams['TeamID'].isin(matched))]\n",
    "        "
   ]
  },
  {
   "cell_type": "code",
   "execution_count": null,
   "id": "463274c9",
   "metadata": {},
   "outputs": [],
   "source": [
    "#We're missing 3 teams, We can reorder those\n",
    "df['TeamID']=df['full_team_name'].apply(lambda x: lookup[x])\n",
    "#rest look good!\n",
    "df.merge(teams.merge(current_seeds))[['full_team_name','TeamName','TeamID','consensus']]"
   ]
  },
  {
   "cell_type": "markdown",
   "id": "4d36573d",
   "metadata": {},
   "source": [
    "Now that we've matched everything up, we can make our projections\n"
   ]
  },
  {
   "cell_type": "code",
   "execution_count": null,
   "id": "94ef14fc",
   "metadata": {},
   "outputs": [],
   "source": [
    "df['rank']=df['consensus']#lower is better \n",
    "team_rankings={row['TeamID']:row['rank'] for idx,row in df.iterrows()}\n",
    "team_rankings"
   ]
  },
  {
   "cell_type": "code",
   "execution_count": null,
   "id": "ab2c8d6e",
   "metadata": {},
   "outputs": [],
   "source": [
    "#Filled in the blanks using https://www.covers.com/sport/basketball/ncaab/odds/futures\n",
    "team_rankings[1353]=45000#Rutgers\n",
    "team_rankings[1371]=25000#Seton hall \n",
    "team_rankings[1389]=200000#St Peters\n",
    "team_rankings[1461]=9e10#Wyoming - Lost already\n"
   ]
  },
  {
   "cell_type": "code",
   "execution_count": null,
   "id": "8aa347ca",
   "metadata": {},
   "outputs": [],
   "source": [
    "matchups['Rank_x']=matchups['TeamID_x'].apply(lambda x: team_rankings[x])\n",
    "matchups['Rank_y']=matchups['TeamID_y'].apply(lambda x: team_rankings[x])"
   ]
  },
  {
   "cell_type": "code",
   "execution_count": null,
   "id": "e875fb0e",
   "metadata": {},
   "outputs": [],
   "source": [
    "matchups['Pred']=(matchups['Rank_x']<matchups['Rank_y']).astype(float)\n",
    "matchups"
   ]
  },
  {
   "cell_type": "code",
   "execution_count": null,
   "id": "2af0206a",
   "metadata": {},
   "outputs": [],
   "source": [
    "#For Kaggle output the file like below\n",
    "matchups['ID']=matchups.apply(lambda row: f\"{row['Season']}_{row['TeamID_x']}_{row['TeamID_y']}\", axis=1)\n",
    "matchups[['ID','Pred']].to_csv(\"data/submission.csv\",index=False)"
   ]
  },
  {
   "cell_type": "code",
   "execution_count": null,
   "id": "cf0a2e37",
   "metadata": {},
   "outputs": [],
   "source": [
    "matchups[['ID','Pred']]"
   ]
  },
  {
   "cell_type": "code",
   "execution_count": null,
   "id": "88e2c58d",
   "metadata": {},
   "outputs": [],
   "source": [
    "import bracketeer\n",
    "b = bracketeer.build_bracket(\n",
    "        outputPath=f'{YEAR}_rankings_bracket.png',\n",
    "        teamsPath=DATA_ROOT+'/MTeams.csv',\n",
    "        seedsPath=DATA_ROOT+'/MNCAATourneySeeds.csv',\n",
    "        submissionPath=f'{DATA_ROOT}/submission.csv',\n",
    "        slotsPath=DATA_ROOT+'/MNCAATourneySlots.csv',\n",
    "        year=YEAR\n",
    ")"
   ]
  },
  {
   "cell_type": "markdown",
   "id": "bf606077",
   "metadata": {},
   "source": [
    "# Thoughts\n",
    "This bracket should be considered the chalkiest of the chalk. What most people think is going to happen. Use that info as you will. It should help you find gaps in other brackets you make, maybe a big injury/coach out you didn't know about. Or better yet. It can help you find something you have a strong conviction on that other people don't. That is a great time to bet, provided your conviction is well founded.\n",
    "\n",
    "The main upsets:\n",
    "- Iowa over Providence\n",
    "- Houston over Illinois\n",
    "- Kentucky over Baylor (Injury woes for Baylor possibly the reason?)\n",
    "\n",
    "To generate better probability distributions you could fit teams to a skills distribution and use that distribution to predict probabilities. https://fivethirtyeight.com/methodology/how-our-nfl-predictions-work/ is a good starting point. And then pymc3\n",
    "  \n",
    "Also read up on the Kaggle discussion boards https://www.kaggle.com/c/mens-march-mania-2022/discussion. You can use this futures data to help your Kaggle model too!"
   ]
  },
  {
   "cell_type": "code",
   "execution_count": null,
   "id": "86d307f1",
   "metadata": {},
   "outputs": [],
   "source": []
  }
 ],
 "metadata": {
  "kernelspec": {
   "display_name": "Python 3 (ipykernel)",
   "language": "python",
   "name": "python3"
  },
  "language_info": {
   "codemirror_mode": {
    "name": "ipython",
    "version": 3
   },
   "file_extension": ".py",
   "mimetype": "text/x-python",
   "name": "python",
   "nbconvert_exporter": "python",
   "pygments_lexer": "ipython3",
   "version": "3.9.10"
  }
 },
 "nbformat": 4,
 "nbformat_minor": 5
}
